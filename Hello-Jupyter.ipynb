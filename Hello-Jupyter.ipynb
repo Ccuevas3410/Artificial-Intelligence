{
 "cells": [
  {
   "cell_type": "markdown",
   "id": "f2042222",
   "metadata": {},
   "source": [
    " \n",
    " ## Here is the link for the Google Colab:\n",
    " \n",
    " [![Open In Colab](https://colab.research.google.com/assets/colab-badge.svg)](https://colab.research.google.com/github/Ccuevas3410/Artificial-Intelligence/blob/master/Hello-Jupyter.ipynb)"
   ]
  },
  {
   "cell_type": "markdown",
   "id": "b7382c56",
   "metadata": {},
   "source": [
    "## Name: Cristian Cuevas\n",
    "### Class: Artificial Intelligence\n",
    "### Proffesor: Hunter McNichols "
   ]
  },
  {
   "cell_type": "markdown",
   "id": "08d56adc",
   "metadata": {},
   "source": [
    "### This is a problem I just solved today in leetcode in preparation of my interviews called: \"Word Break\" ###\n"
   ]
  },
  {
   "attachments": {},
   "cell_type": "markdown",
   "id": "b4faefaa",
   "metadata": {},
   "source": [
    "![WordBreak.png](WordBreak.png)"
   ]
  },
  {
   "cell_type": "code",
   "execution_count": 1,
   "id": "5028fc89",
   "metadata": {},
   "outputs": [],
   "source": [
    "from collections import deque"
   ]
  },
  {
   "cell_type": "code",
   "execution_count": 2,
   "id": "1eee0e10",
   "metadata": {},
   "outputs": [],
   "source": [
    " def wordBreak( s, wordDict):\n",
    "        words = set(wordDict)\n",
    "        queue= deque([0])\n",
    "        seen = set()\n",
    "        while queue:\n",
    "            start = queue.pop()\n",
    "            #This is because we go trhough the string several times\n",
    "            #if we see a start that means we have checked that part of the string\n",
    "            if start in seen:\n",
    "                continue\n",
    "                #checking substring\n",
    "            for end in range(start+1, len(s)+1):\n",
    "                if s[start:end] in words:\n",
    "                    #Adding end where we found the word \n",
    "                    queue.append(end)\n",
    "                    if end == len(s):\n",
    "                        return True\n",
    "                    #Adding index of the start of the word\n",
    "                    seen.add(start)\n",
    "        return False\n",
    "                    \n",
    "                    \n",
    "       \n"
   ]
  },
  {
   "cell_type": "markdown",
   "id": "187813e4",
   "metadata": {},
   "source": [
    "###### I solved this problem by using the DFS method we use on trees on the words we are looking for\n",
    "First we put the given words into a set, this way we can access and look for those words in O(1) time.\n",
    "Then we create a queue that is going to keep the DFS going, we also create a set of the seen/visited starts, that way when we loop through the string again, we do not add repeated words.\n",
    "We then loop looking for the substring in the given words set, if it is there, we add the end of that substring to the queue so that when we go back we start from 1 letter in front of the one saved. This is so we do not add a part of the seen string again.\n",
    "If the variable end equals the end on the word, that means we reached the end and it can be split, we add this start to the seen set.\n",
    "If we reach the end of the queue\n",
    "\n",
    "\n",
    "\n"
   ]
  },
  {
   "cell_type": "code",
   "execution_count": 3,
   "id": "a0f64fb9",
   "metadata": {},
   "outputs": [
    {
     "name": "stdout",
     "output_type": "stream",
     "text": [
      "True\n",
      "True\n",
      "False\n"
     ]
    }
   ],
   "source": [
    "print(wordBreak(\"applepieapple\",{\"apple\", \"pie\"}))#Should be True\n",
    "print(wordBreak(\"leetcode\",{\"leet\", \"code\"}))#Should be True\n",
    "print(wordBreak(\"catsandog\",{\"cats\",\"dog\",\"sand\",\"and\",\"cat\"}))  #Should be False"
   ]
  },
  {
   "cell_type": "markdown",
   "id": "4337e7d1",
   "metadata": {},
   "source": [
    "###### Time Complexity: <font color='red'> O(N^3) </font>\n",
    "###### Space Complexity: <font color='red'> O(N) </font>"
   ]
  },
  {
   "cell_type": "markdown",
   "id": "19df676a",
   "metadata": {},
   "source": [
    "### This is a problem I received 3 days ago on my first interview with Qualtrics, I received this problem for the first time 3 years ago when Capital One flew me to their HQ for my first ever Tech interview and I remember failing it big time, since then I have done it dozens of times waiting for this moment haha ###\n"
   ]
  },
  {
   "attachments": {},
   "cell_type": "markdown",
   "id": "d062f59a",
   "metadata": {},
   "source": [
    "![MergeIntervals.png](MergeIntervals.png)"
   ]
  },
  {
   "cell_type": "code",
   "execution_count": 4,
   "id": "6969d8d7",
   "metadata": {},
   "outputs": [],
   "source": [
    "def merge(intervals):\n",
    "    ##Sorting input\n",
    "        intervals.sort()\n",
    "        \n",
    "        i=1\n",
    "        while i < len(intervals):\n",
    "            #Comparison of previous input against current input\n",
    "            if intervals[i-1][1] >= intervals[i][0]:\n",
    "                #Inplace swapping\n",
    "                intervals[i-1][1] = max(intervals[i-1][1], intervals[i][1])\n",
    "                intervals.pop(i)\n",
    "            else:\n",
    "                i+=1\n",
    "        return intervals"
   ]
  },
  {
   "cell_type": "code",
   "execution_count": 5,
   "id": "4b72a859",
   "metadata": {},
   "outputs": [
    {
     "name": "stdout",
     "output_type": "stream",
     "text": [
      "[[1, 6], [8, 10], [15, 18]]\n",
      "[[1, 5]]\n",
      "[[0, 0], [8, 10]]\n"
     ]
    }
   ],
   "source": [
    "print(merge([[1,3],[2,6],[8,10],[15,18]]))   ## Answer should be  [[1,6],[8,10],[15,18]]\n",
    "print(merge([[1,4],[4,5]])) ## Answer should be [[1,5]]\n",
    "print(merge([[0,0],[0,0],[8,10]])) ## Answer should be [[0,0],[8,10]]"
   ]
  },
  {
   "cell_type": "markdown",
   "id": "19a519db",
   "metadata": {},
   "source": [
    "###### I solved this problem by using by sorting the input and then comparing input[i] to input[i-1]\n",
    "First, we sort the given input. \n",
    "After this we go into a loop and we compare the currentElement[i][0] vs currentElement[i-1][1] and if currentElement[i-1][1] is smaller then we do a inplace swap, otherwise we increase our iterator and return the input modified\n",
    "\n",
    "\n",
    "\n"
   ]
  },
  {
   "cell_type": "markdown",
   "id": "31d78d1e",
   "metadata": {},
   "source": [
    "###### Time Complexity: <font color='red'>  O(N * Log N)</font>\n",
    "###### Space Complexity:  <font color='red'> O(N) </font>"
   ]
  },
  {
   "cell_type": "markdown",
   "id": "b1a8c278",
   "metadata": {},
   "source": [
    "<font color='red'> <h3> Here's the most important part of this HW: </h3> </font>"
   ]
  },
  {
   "attachments": {},
   "cell_type": "markdown",
   "id": "9769680c",
   "metadata": {},
   "source": [
    "![meme.jpg](meme.jpg)"
   ]
  },
  {
   "cell_type": "code",
   "execution_count": null,
   "id": "57434f31",
   "metadata": {},
   "outputs": [],
   "source": []
  }
 ],
 "metadata": {
  "kernelspec": {
   "display_name": "Python 3 (ipykernel)",
   "language": "python",
   "name": "python3"
  },
  "language_info": {
   "codemirror_mode": {
    "name": "ipython",
    "version": 3
   },
   "file_extension": ".py",
   "mimetype": "text/x-python",
   "name": "python",
   "nbconvert_exporter": "python",
   "pygments_lexer": "ipython3",
   "version": "3.9.7"
  }
 },
 "nbformat": 4,
 "nbformat_minor": 5
}
