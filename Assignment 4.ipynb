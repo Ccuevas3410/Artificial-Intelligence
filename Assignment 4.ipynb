{
  "nbformat": 4,
  "nbformat_minor": 0,
  "metadata": {
    "kernelspec": {
      "display_name": "Python 3",
      "language": "python",
      "name": "python3"
    },
    "language_info": {
      "codemirror_mode": {
        "name": "ipython",
        "version": 3
      },
      "file_extension": ".py",
      "mimetype": "text/x-python",
      "name": "python",
      "nbconvert_exporter": "python",
      "pygments_lexer": "ipython3",
      "version": "3.8.5"
    },
    "toc": {
      "base_numbering": 1,
      "nav_menu": {},
      "number_sections": true,
      "sideBar": true,
      "skip_h1_title": false,
      "title_cell": "Table of Contents",
      "title_sidebar": "Contents",
      "toc_cell": false,
      "toc_position": {},
      "toc_section_display": true,
      "toc_window_display": false
    },
    "colab": {
      "name": "Cuevas_ Assignment_4_.ipynb",
      "provenance": [],
      "collapsed_sections": []
    }
  },
  "cells": [
    {
      "cell_type": "markdown",
      "metadata": {
        "id": "YFxh1Oi5-Q9X"
      },
      "source": [
        "<a href=\"https://colab.research.google.com/github/Ccuevas3410/Artificial-Intelligence/blob/master/Assignment%204.ipynb\" target=\"_parent\"><img src=\"https://colab.research.google.com/assets/colab-badge.svg\" alt=\"Open In Colab\"/></a>\n"
      ]
    },
    {
      "cell_type": "code",
      "metadata": {
        "id": "ZkTvqZX8-Q9X"
      },
      "source": [
        "import pandas as pd\n",
        "import numpy as np\n",
        "from sklearn.datasets import load_iris\n",
        "from sklearn.neural_network import MLPClassifier\n",
        "from sklearn.neighbors import KNeighborsClassifier\n",
        "from sklearn.metrics import confusion_matrix\n",
        "from sklearn.linear_model import LogisticRegression\n",
        "from sklearn import svm\n",
        "from sklearn.model_selection import train_test_split"
      ],
      "execution_count": 44,
      "outputs": []
    },
    {
      "cell_type": "code",
      "metadata": {
        "id": "gG28-3Yn-Q9Z",
        "colab": {
          "base_uri": "https://localhost:8080/",
          "height": 508
        },
        "outputId": "4593d3e2-5ba9-4bb3-c008-3bae5a540120"
      },
      "source": [
        "# Load the dataset (load remotely, not locally)\n",
        "irisData = load_iris()\n",
        "# Output the first 15 rows of the data\n",
        "irisDf = pd.DataFrame(data= np.c_[irisData['data'], irisData['target']], columns= irisData['feature_names'] + ['target'])\n",
        "# Display a summary of the table information (number of datapoints, etc.)\n",
        "irisDf.head(15)\n"
      ],
      "execution_count": 45,
      "outputs": [
        {
          "output_type": "execute_result",
          "data": {
            "text/html": [
              "<div>\n",
              "<style scoped>\n",
              "    .dataframe tbody tr th:only-of-type {\n",
              "        vertical-align: middle;\n",
              "    }\n",
              "\n",
              "    .dataframe tbody tr th {\n",
              "        vertical-align: top;\n",
              "    }\n",
              "\n",
              "    .dataframe thead th {\n",
              "        text-align: right;\n",
              "    }\n",
              "</style>\n",
              "<table border=\"1\" class=\"dataframe\">\n",
              "  <thead>\n",
              "    <tr style=\"text-align: right;\">\n",
              "      <th></th>\n",
              "      <th>sepal length (cm)</th>\n",
              "      <th>sepal width (cm)</th>\n",
              "      <th>petal length (cm)</th>\n",
              "      <th>petal width (cm)</th>\n",
              "      <th>target</th>\n",
              "    </tr>\n",
              "  </thead>\n",
              "  <tbody>\n",
              "    <tr>\n",
              "      <th>0</th>\n",
              "      <td>5.1</td>\n",
              "      <td>3.5</td>\n",
              "      <td>1.4</td>\n",
              "      <td>0.2</td>\n",
              "      <td>0.0</td>\n",
              "    </tr>\n",
              "    <tr>\n",
              "      <th>1</th>\n",
              "      <td>4.9</td>\n",
              "      <td>3.0</td>\n",
              "      <td>1.4</td>\n",
              "      <td>0.2</td>\n",
              "      <td>0.0</td>\n",
              "    </tr>\n",
              "    <tr>\n",
              "      <th>2</th>\n",
              "      <td>4.7</td>\n",
              "      <td>3.2</td>\n",
              "      <td>1.3</td>\n",
              "      <td>0.2</td>\n",
              "      <td>0.0</td>\n",
              "    </tr>\n",
              "    <tr>\n",
              "      <th>3</th>\n",
              "      <td>4.6</td>\n",
              "      <td>3.1</td>\n",
              "      <td>1.5</td>\n",
              "      <td>0.2</td>\n",
              "      <td>0.0</td>\n",
              "    </tr>\n",
              "    <tr>\n",
              "      <th>4</th>\n",
              "      <td>5.0</td>\n",
              "      <td>3.6</td>\n",
              "      <td>1.4</td>\n",
              "      <td>0.2</td>\n",
              "      <td>0.0</td>\n",
              "    </tr>\n",
              "    <tr>\n",
              "      <th>5</th>\n",
              "      <td>5.4</td>\n",
              "      <td>3.9</td>\n",
              "      <td>1.7</td>\n",
              "      <td>0.4</td>\n",
              "      <td>0.0</td>\n",
              "    </tr>\n",
              "    <tr>\n",
              "      <th>6</th>\n",
              "      <td>4.6</td>\n",
              "      <td>3.4</td>\n",
              "      <td>1.4</td>\n",
              "      <td>0.3</td>\n",
              "      <td>0.0</td>\n",
              "    </tr>\n",
              "    <tr>\n",
              "      <th>7</th>\n",
              "      <td>5.0</td>\n",
              "      <td>3.4</td>\n",
              "      <td>1.5</td>\n",
              "      <td>0.2</td>\n",
              "      <td>0.0</td>\n",
              "    </tr>\n",
              "    <tr>\n",
              "      <th>8</th>\n",
              "      <td>4.4</td>\n",
              "      <td>2.9</td>\n",
              "      <td>1.4</td>\n",
              "      <td>0.2</td>\n",
              "      <td>0.0</td>\n",
              "    </tr>\n",
              "    <tr>\n",
              "      <th>9</th>\n",
              "      <td>4.9</td>\n",
              "      <td>3.1</td>\n",
              "      <td>1.5</td>\n",
              "      <td>0.1</td>\n",
              "      <td>0.0</td>\n",
              "    </tr>\n",
              "    <tr>\n",
              "      <th>10</th>\n",
              "      <td>5.4</td>\n",
              "      <td>3.7</td>\n",
              "      <td>1.5</td>\n",
              "      <td>0.2</td>\n",
              "      <td>0.0</td>\n",
              "    </tr>\n",
              "    <tr>\n",
              "      <th>11</th>\n",
              "      <td>4.8</td>\n",
              "      <td>3.4</td>\n",
              "      <td>1.6</td>\n",
              "      <td>0.2</td>\n",
              "      <td>0.0</td>\n",
              "    </tr>\n",
              "    <tr>\n",
              "      <th>12</th>\n",
              "      <td>4.8</td>\n",
              "      <td>3.0</td>\n",
              "      <td>1.4</td>\n",
              "      <td>0.1</td>\n",
              "      <td>0.0</td>\n",
              "    </tr>\n",
              "    <tr>\n",
              "      <th>13</th>\n",
              "      <td>4.3</td>\n",
              "      <td>3.0</td>\n",
              "      <td>1.1</td>\n",
              "      <td>0.1</td>\n",
              "      <td>0.0</td>\n",
              "    </tr>\n",
              "    <tr>\n",
              "      <th>14</th>\n",
              "      <td>5.8</td>\n",
              "      <td>4.0</td>\n",
              "      <td>1.2</td>\n",
              "      <td>0.2</td>\n",
              "      <td>0.0</td>\n",
              "    </tr>\n",
              "  </tbody>\n",
              "</table>\n",
              "</div>"
            ],
            "text/plain": [
              "    sepal length (cm)  sepal width (cm)  ...  petal width (cm)  target\n",
              "0                 5.1               3.5  ...               0.2     0.0\n",
              "1                 4.9               3.0  ...               0.2     0.0\n",
              "2                 4.7               3.2  ...               0.2     0.0\n",
              "3                 4.6               3.1  ...               0.2     0.0\n",
              "4                 5.0               3.6  ...               0.2     0.0\n",
              "5                 5.4               3.9  ...               0.4     0.0\n",
              "6                 4.6               3.4  ...               0.3     0.0\n",
              "7                 5.0               3.4  ...               0.2     0.0\n",
              "8                 4.4               2.9  ...               0.2     0.0\n",
              "9                 4.9               3.1  ...               0.1     0.0\n",
              "10                5.4               3.7  ...               0.2     0.0\n",
              "11                4.8               3.4  ...               0.2     0.0\n",
              "12                4.8               3.0  ...               0.1     0.0\n",
              "13                4.3               3.0  ...               0.1     0.0\n",
              "14                5.8               4.0  ...               0.2     0.0\n",
              "\n",
              "[15 rows x 5 columns]"
            ]
          },
          "metadata": {},
          "execution_count": 45
        }
      ]
    },
    {
      "cell_type": "code",
      "metadata": {
        "id": "WFoqnj75-Q9a",
        "colab": {
          "base_uri": "https://localhost:8080/"
        },
        "outputId": "9631e2e5-953c-4c25-ed3b-d6ed655e7ea8"
      },
      "source": [
        "irisDf.info()"
      ],
      "execution_count": 46,
      "outputs": [
        {
          "output_type": "stream",
          "name": "stdout",
          "text": [
            "<class 'pandas.core.frame.DataFrame'>\n",
            "RangeIndex: 150 entries, 0 to 149\n",
            "Data columns (total 5 columns):\n",
            " #   Column             Non-Null Count  Dtype  \n",
            "---  ------             --------------  -----  \n",
            " 0   sepal length (cm)  150 non-null    float64\n",
            " 1   sepal width (cm)   150 non-null    float64\n",
            " 2   petal length (cm)  150 non-null    float64\n",
            " 3   petal width (cm)   150 non-null    float64\n",
            " 4   target             150 non-null    float64\n",
            "dtypes: float64(5)\n",
            "memory usage: 6.0 KB\n"
          ]
        }
      ]
    },
    {
      "cell_type": "markdown",
      "metadata": {
        "id": "K80oiSwk-Q9b"
      },
      "source": [
        "# About the dataset\n",
        "Explain what the data is in your own words. What are your features and labels? What is the mapping of your labels to the actual classes?"
      ]
    },
    {
      "cell_type": "markdown",
      "metadata": {
        "id": "1jzIz9rF-Q9c"
      },
      "source": [
        "The data is made of 150 rows with non-null values and 5 columns which are:\n",
        "\n",
        "Features: Sepal length, Sepal width, Petal length, Petal width\n",
        "Label: target"
      ]
    },
    {
      "cell_type": "markdown",
      "metadata": {
        "id": "yfUC2Xha-Q9c"
      },
      "source": [
        "# Part 2: Split the dataset into train and test"
      ]
    },
    {
      "cell_type": "code",
      "metadata": {
        "id": "Qfz2cV9q-Q9d"
      },
      "source": [
        "# Take the dataset and split it into our features (X) and label (y)\n",
        "x = irisData.data\n",
        "y = irisData.target\n",
        "# Use sklearn to split the features and labels into a training/test set. (90% train, 10% test)\n",
        "X_train, X_test, y_train, y_test = train_test_split(x, y, train_size=.90, random_state=40)"
      ],
      "execution_count": 47,
      "outputs": []
    },
    {
      "cell_type": "markdown",
      "metadata": {
        "id": "o5YcNWVv-Q9e"
      },
      "source": [
        "# Part 3: Logistic Regression"
      ]
    },
    {
      "cell_type": "code",
      "metadata": {
        "id": "VVssrlYi-Q9e",
        "colab": {
          "base_uri": "https://localhost:8080/"
        },
        "outputId": "15530317-f843-4058-8450-163c54606408"
      },
      "source": [
        "# i. Use sklearn to train a LogisticRegression model on the training set\n",
        "\n",
        "regression = LogisticRegression()\n",
        "regression.fit(X_train, y_train)\n",
        "\n",
        "# ii. For a sample datapoint, predict the probabilities for each possible class\n",
        "\n",
        "y_pred = regression.predict(X_test)\n",
        "y_pred_prob = regression.predict_proba(X_test)\n",
        "posibbleClasses = load_iris().target_names\n",
        "for class_name, probability in zip(posibbleClasses, y_pred_prob):\n",
        "    index = np.argmax(probability)\n",
        "    print(\"predicted class: \" + str(class_name) +   \" confidence: \" + str(probability[index]*100))\n",
        "    \n",
        "# iii. Report on the score for Logistic regression model, what does the score measure?\n",
        "score = regression.score(X_test, y_test)\n",
        "print(\"Score is\", score)\n",
        "\n",
        "confusion_matrix(y_test,regression.predict(X_test))\n"
      ],
      "execution_count": 48,
      "outputs": [
        {
          "output_type": "stream",
          "name": "stdout",
          "text": [
            "predicted class: setosa confidence: 98.49952418172454\n",
            "predicted class: versicolor confidence: 74.04623300557905\n",
            "predicted class: virginica confidence: 93.85834949832753\n",
            "Score is 1.0\n"
          ]
        },
        {
          "output_type": "execute_result",
          "data": {
            "text/plain": [
              "array([[4, 0, 0],\n",
              "       [0, 7, 0],\n",
              "       [0, 0, 4]])"
            ]
          },
          "metadata": {},
          "execution_count": 48
        }
      ]
    },
    {
      "cell_type": "markdown",
      "metadata": {
        "id": "m2oM1uU3-Q9f"
      },
      "source": [
        "We can see that the score for this model stands on 100%. <br>\n",
        "The confusion matrix showes setosa we have 4 correct predicted setosa and 0 false valuse. Conclusion: very high accuracy. <br>\n",
        "For versicolor we got 7 predicted correclty and 0 for falsely predictions (all are zeros). <br>\n",
        "For virginicia again we got 4 correct predictions with no false predictions, which again tells up we have very high accuracy. \n"
      ]
    },
    {
      "cell_type": "code",
      "metadata": {
        "id": "59qVwo9Y-Q9f",
        "colab": {
          "base_uri": "https://localhost:8080/"
        },
        "outputId": "f2e6aaf3-2cbd-42c3-cd7a-6b45af48c9b6"
      },
      "source": [
        "# iv. Extract the coefficents and intercepts for the boundary line(s)\n",
        "intercepts = regression.intercept_\n",
        "coeff = regression.coef_.T\n",
        "print(\"intercepts: \", intercepts)\n",
        "print( \"coeff:\" , coeff)"
      ],
      "execution_count": 49,
      "outputs": [
        {
          "output_type": "stream",
          "name": "stdout",
          "text": [
            "intercepts:  [  9.28765789   1.71996682 -11.0076247 ]\n",
            "coeff: [[-0.3800456   0.59261374 -0.21256814]\n",
            " [ 0.96204981 -0.30949256 -0.65255725]\n",
            " [-2.4418961  -0.22740222  2.66929832]\n",
            " [-1.05252963 -0.85501325  1.90754288]]\n"
          ]
        }
      ]
    },
    {
      "cell_type": "markdown",
      "metadata": {
        "id": "6WAtE7DJ-Q9g"
      },
      "source": [
        "# Part 4: Support Vector Machine"
      ]
    },
    {
      "cell_type": "code",
      "metadata": {
        "id": "5F7_Ch4e-Q9g",
        "colab": {
          "base_uri": "https://localhost:8080/"
        },
        "outputId": "857d54d0-a468-46a5-d0ed-7af6671003c4"
      },
      "source": [
        "# i. Use sklearn to train a Support Vector Classifier on the training set\n",
        "svc = svm.SVC(probability=True)\n",
        "svc.fit(X_train, y_train)\n",
        "\n",
        "# ii. For a sample datapoint, predict the probabilities for each possible class\n",
        "\n",
        "y_pred_svc = svc.predict(X_test)\n",
        "y_pred_prob_svc = svc.predict_proba(X_test)\n",
        "for class_name, proba in zip(posibbleClasses, y_pred_prob_svc):\n",
        "    index = np.argmax(proba)\n",
        "    print(\"Predicted class :\", class_name ,\"\\nConfidence :\", proba[index])\n",
        "\n",
        "# iii. Report on the score for the SVM, what does the score measure?\n",
        "\n",
        "score = svc.score(X_test, y_test)\n",
        "print(\"Socre:\", score)\n",
        "\n",
        "print(confusion_matrix(y_test,svc.predict(X_test)))\n"
      ],
      "execution_count": 50,
      "outputs": [
        {
          "output_type": "stream",
          "name": "stdout",
          "text": [
            "Predicted class : setosa \n",
            "Confidence : 0.9734339875025979\n",
            "Predicted class : versicolor \n",
            "Confidence : 0.8388566195319529\n",
            "Predicted class : virginica \n",
            "Confidence : 0.9780935498204312\n",
            "Socre: 1.0\n",
            "[[4 0 0]\n",
            " [0 7 0]\n",
            " [0 0 4]]\n"
          ]
        }
      ]
    },
    {
      "cell_type": "markdown",
      "metadata": {
        "id": "-Jss9TW6-Q9h"
      },
      "source": [
        "Once again, we see that the coeff matrix produces high accuracy, as the predicted vs. the actual classes match with zeros false predictions accordingly.  <br> Score here also stands on 100%."
      ]
    },
    {
      "cell_type": "markdown",
      "metadata": {
        "id": "6Dlb-5bs-Q9h"
      },
      "source": [
        "# Part 5: Neural Network"
      ]
    },
    {
      "cell_type": "code",
      "metadata": {
        "id": "dKmJA4dS-Q9i",
        "colab": {
          "base_uri": "https://localhost:8080/"
        },
        "outputId": "3052c802-1bd7-4290-c3ab-447031fe0bff"
      },
      "source": [
        "# i. Use sklearn to train a Neural Network (MLP Classifier) on the training set\n",
        "mlp = MLPClassifier(solver='adam',learning_rate_init=0.01, hidden_layer_sizes=10, max_iter=600,random_state=1)\n",
        "mlp.fit(X_train, y_train)\n",
        "\n",
        "# ii. For a sample datapoint, predict the probabilities for each possible class\n",
        "y_predict_mlp = mlp.predict(X_test)\n",
        "y_pred_prob_mlp = mlp.predict_proba(X_test)\n",
        "\n",
        "for class_name, probability in zip(posibbleClasses, y_pred_prob_mlp):\n",
        "    index = np.argmax(probability)\n",
        "    print(\"Predicted class: \", class_name ,\", Confidence:\" ,probability[index])\n",
        "\n",
        "    # iii. Report on the score for the Neural Network, what does the score measure?\n",
        "score = mlp.score(X_test, y_test)\n",
        "print(\"Accuracy score: \",score)\n",
        "\n",
        "# iv: Experiment with different options for the neural network, report on your best configuration (the highest score I was able to achieve was 0.8666)"
      ],
      "execution_count": 51,
      "outputs": [
        {
          "output_type": "stream",
          "name": "stdout",
          "text": [
            "Predicted class:  setosa , Confidence: 0.9996544449712463\n",
            "Predicted class:  versicolor , Confidence: 0.8836402049279067\n",
            "Predicted class:  virginica , Confidence: 0.9962550196137152\n",
            "Accuracy score:  1.0\n"
          ]
        }
      ]
    },
    {
      "cell_type": "markdown",
      "metadata": {
        "id": "yQQs5XrY-Q9i"
      },
      "source": [
        "For this model the score here produces 93% percision."
      ]
    },
    {
      "cell_type": "markdown",
      "metadata": {
        "id": "nOwz9IUg-Q9i"
      },
      "source": [
        "# Part 6: K-Nearest Neighbors"
      ]
    },
    {
      "cell_type": "code",
      "metadata": {
        "id": "YWEdOIC6-Q9j",
        "colab": {
          "base_uri": "https://localhost:8080/"
        },
        "outputId": "2b2e9716-d36d-493f-e63f-c26fd5f069a2"
      },
      "source": [
        "# i. Use sklearn to 'train' a k-Neighbors Classifier\n",
        "# Note: KNN is a nonparametric model and technically doesn't require training\n",
        "# fit will essentially load the data into the model see link below for more information\n",
        "# https://stats.stackexchange.com/questions/349842/why-do-we-need-to-fit-a-k-nearest-neighbors-classifier\n",
        "\n",
        "KNN = KNeighborsClassifier(n_neighbors=8)\n",
        "KNN.fit(X_train, y_train)\n",
        "\n",
        "# ii. For a sample datapoint, predict the probabilities for each possible class\n",
        "\n",
        "y_pred_knn = KNN.predict(X_test)\n",
        "y_pred_prob_knn = KNN.predict_proba(X_test)\n",
        "for class_name, probability in zip(posibbleClasses, y_pred_prob_knn):\n",
        "    index = np.argmax(probability)\n",
        "    print(\"predicted class:\", class_name,\", confidence:\", probability[index])\n",
        "# iii. Report on the score for kNN, what does the score measure?\n",
        "    score = KNN.score(X_test, y_test)\n",
        "\n",
        "\n",
        "print(\"Accuracy: \",score)"
      ],
      "execution_count": 52,
      "outputs": [
        {
          "output_type": "stream",
          "name": "stdout",
          "text": [
            "predicted class: setosa , confidence: 1.0\n",
            "predicted class: versicolor , confidence: 1.0\n",
            "predicted class: virginica , confidence: 1.0\n",
            "Accuracy:  1.0\n"
          ]
        }
      ]
    },
    {
      "cell_type": "markdown",
      "metadata": {
        "id": "hgdKjB5_-Q9j"
      },
      "source": [
        "For this model the score here produces 100% percision."
      ]
    },
    {
      "cell_type": "markdown",
      "metadata": {
        "id": "jpxVeLN7-Q9j"
      },
      "source": [
        "# Part 7: Conclusions and takeaways\n",
        "\n",
        "\n",
        "In your own words describe the results of the notebook. Which model(s) performed the best on the dataset? Why do you think that is? Did anything surprise you about the exercise?\n",
        "\n",
        "Answer:\n",
        "\n",
        "In this assignment we used 4 classifiers. Logistic Regression\n",
        "Support Vector Machine, Neural Network, K-Nearest Neighbors\n",
        "\n",
        "All models except the neural network classifier gave a pretty accurate result, i\n",
        "I am surprised\n",
        "\n"
      ]
    }
  ]
}